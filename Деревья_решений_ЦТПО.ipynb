{
  "nbformat": 4,
  "nbformat_minor": 0,
  "metadata": {
    "colab": {
      "provenance": [],
      "include_colab_link": true
    },
    "kernelspec": {
      "name": "python3",
      "display_name": "Python 3"
    },
    "language_info": {
      "name": "python"
    }
  },
  "cells": [
    {
      "cell_type": "markdown",
      "metadata": {
        "id": "view-in-github",
        "colab_type": "text"
      },
      "source": [
        "<a href=\"https://colab.research.google.com/github/antwoor/ds_lessons/blob/master/%D0%94%D0%B5%D1%80%D0%B5%D0%B2%D1%8C%D1%8F_%D1%80%D0%B5%D1%88%D0%B5%D0%BD%D0%B8%D0%B9_%D0%A6%D0%A2%D0%9F%D0%9E.ipynb\" target=\"_parent\"><img src=\"https://colab.research.google.com/assets/colab-badge.svg\" alt=\"Open In Colab\"/></a>"
      ]
    },
    {
      "cell_type": "code",
      "execution_count": null,
      "metadata": {
        "id": "hEBYgLLB7p_H"
      },
      "outputs": [],
      "source": [
        "import pandas as pd\n",
        "import numpy as np\n",
        "import matplotlib.pyplot as plt\n",
        "from sklearn.linear_model import LogisticRegression\n",
        "from sklearn.model_selection import train_test_split"
      ]
    },
    {
      "cell_type": "code",
      "source": [
        "df = pd.read_csv('titanic.csv')\n",
        "# выберем целевую и обучающие колонки\n",
        "tg_col = ['Survived']\n",
        "train_col = ['Sex', 'Pclass', 'Age', 'Fare', 'SibSp']\n",
        "X = df[train_col]\n",
        "Y = df[tg_col]\n",
        "df.columns"
      ],
      "metadata": {
        "id": "JCAkw0bWWLpz",
        "colab": {
          "base_uri": "https://localhost:8080/"
        },
        "outputId": "2ce95de1-a334-4d91-f703-e831ea5fd7a2"
      },
      "execution_count": null,
      "outputs": [
        {
          "output_type": "execute_result",
          "data": {
            "text/plain": [
              "Index(['PassengerId', 'Survived', 'Pclass', 'Name', 'Sex', 'Age', 'SibSp',\n",
              "       'Parch', 'Ticket', 'Fare', 'Cabin', 'Embarked'],\n",
              "      dtype='object')"
            ]
          },
          "metadata": {},
          "execution_count": 2
        }
      ]
    },
    {
      "cell_type": "code",
      "source": [
        "X['Age'].fillna(X['Age'].mean(), inplace = True)"
      ],
      "metadata": {
        "colab": {
          "base_uri": "https://localhost:8080/"
        },
        "id": "PbFfViT8-lci",
        "outputId": "e3a29bbf-fb8b-409b-a80c-c8ec77ca631d"
      },
      "execution_count": null,
      "outputs": [
        {
          "output_type": "stream",
          "name": "stderr",
          "text": [
            "<ipython-input-3-b6c8ccbdf089>:1: SettingWithCopyWarning: \n",
            "A value is trying to be set on a copy of a slice from a DataFrame\n",
            "\n",
            "See the caveats in the documentation: https://pandas.pydata.org/pandas-docs/stable/user_guide/indexing.html#returning-a-view-versus-a-copy\n",
            "  X['Age'].fillna(X['Age'].mean(), inplace = True)\n"
          ]
        }
      ]
    },
    {
      "cell_type": "code",
      "source": [
        "MyStringIndexer={'male':0, 'female':1}\n",
        "X['Sex'] = X['Sex'].apply(lambda x:MyStringIndexer[x])"
      ],
      "metadata": {
        "colab": {
          "base_uri": "https://localhost:8080/"
        },
        "id": "4wG7yBhd_PJS",
        "outputId": "95a06191-4b75-4fd7-b892-0bc17267d262"
      },
      "execution_count": null,
      "outputs": [
        {
          "output_type": "stream",
          "name": "stderr",
          "text": [
            "<ipython-input-4-0145ae83eb2b>:2: SettingWithCopyWarning: \n",
            "A value is trying to be set on a copy of a slice from a DataFrame.\n",
            "Try using .loc[row_indexer,col_indexer] = value instead\n",
            "\n",
            "See the caveats in the documentation: https://pandas.pydata.org/pandas-docs/stable/user_guide/indexing.html#returning-a-view-versus-a-copy\n",
            "  X['Sex'] = X['Sex'].apply(lambda x:MyStringIndexer[x])\n"
          ]
        }
      ]
    },
    {
      "cell_type": "code",
      "source": [
        "X_train, X_test, Y_train, Y_test = train_test_split(X,Y, stratify=Y, test_size=0.3, random_state=47)"
      ],
      "metadata": {
        "id": "bRL-jdh1_Ub7"
      },
      "execution_count": null,
      "outputs": []
    },
    {
      "cell_type": "code",
      "source": [
        "X_train.isnull().any() #СУПЕР!!!"
      ],
      "metadata": {
        "colab": {
          "base_uri": "https://localhost:8080/"
        },
        "id": "8goWvux6AC-v",
        "outputId": "2475623b-f962-4715-f651-a286b86dc674"
      },
      "execution_count": null,
      "outputs": [
        {
          "output_type": "execute_result",
          "data": {
            "text/plain": [
              "Sex       False\n",
              "Pclass    False\n",
              "Age       False\n",
              "Fare      False\n",
              "SibSp     False\n",
              "dtype: bool"
            ]
          },
          "metadata": {},
          "execution_count": 6
        }
      ]
    },
    {
      "cell_type": "code",
      "source": [
        "from sklearn import tree\n",
        "clf = tree.DecisionTreeClassifier()\n",
        "clf =clf.fit(X_train, Y_train)"
      ],
      "metadata": {
        "id": "oDfAiCaJ8BBE"
      },
      "execution_count": null,
      "outputs": []
    },
    {
      "cell_type": "code",
      "source": [
        "clf.predict(X_test)"
      ],
      "metadata": {
        "colab": {
          "base_uri": "https://localhost:8080/"
        },
        "id": "YLWUhdkK8_yo",
        "outputId": "8693e2d2-ef48-4f21-c96a-f557f3301b2a"
      },
      "execution_count": null,
      "outputs": [
        {
          "output_type": "execute_result",
          "data": {
            "text/plain": [
              "array([0, 1, 0, 1, 0, 0, 0, 0, 1, 1, 0, 0, 1, 0, 1, 0, 0, 1, 1, 1, 0, 1,\n",
              "       0, 0, 1, 1, 1, 0, 0, 0, 0, 0, 0, 0, 0, 0, 1, 1, 0, 1, 0, 1, 1, 1,\n",
              "       0, 0, 0, 0, 1, 0, 1, 0, 0, 0, 0, 0, 1, 1, 0, 0, 0, 0, 0, 1, 1, 1,\n",
              "       0, 0, 1, 1, 0, 1, 0, 1, 0, 0, 1, 0, 1, 0, 0, 1, 0, 0, 1, 0, 0, 0,\n",
              "       1, 0, 1, 0, 0, 0, 0, 1, 0, 0, 1, 0, 0, 0, 0, 1, 0, 1, 0, 1, 0, 1,\n",
              "       0, 1, 0, 1, 0, 0, 1, 0, 0, 0, 0, 0, 0, 0, 1, 0, 1, 0, 1, 1, 0, 1,\n",
              "       1, 1, 0, 0, 1, 1, 0, 0, 0, 0, 0, 0, 1, 1, 1, 0, 1, 0, 0, 1, 1, 0,\n",
              "       0, 0, 1, 0, 0, 1, 1, 1, 0, 0, 1, 1, 0, 0, 0, 1, 0, 0, 0, 0, 1, 1,\n",
              "       0, 0, 0, 0, 1, 1, 0, 1, 0, 1, 0, 0, 1, 0, 0, 1, 0, 0, 1, 1, 1, 1,\n",
              "       0, 0, 1, 0, 0, 1, 0, 0, 1, 0, 1, 0, 1, 1, 0, 0, 0, 0, 0, 0, 0, 1,\n",
              "       0, 1, 1, 1, 0, 0, 0, 0, 0, 0, 0, 1, 1, 1, 0, 0, 1, 1, 0, 0, 1, 0,\n",
              "       1, 0, 0, 0, 0, 0, 1, 1, 0, 1, 0, 0, 0, 0, 0, 0, 0, 1, 1, 1, 1, 0,\n",
              "       0, 0, 0, 1])"
            ]
          },
          "metadata": {},
          "execution_count": 8
        }
      ]
    },
    {
      "cell_type": "code",
      "source": [
        "clf.score(X_test, Y_test)"
      ],
      "metadata": {
        "colab": {
          "base_uri": "https://localhost:8080/"
        },
        "id": "hEh_UDVv9V2z",
        "outputId": "d394b053-329f-480e-d228-59e06ce7f194"
      },
      "execution_count": null,
      "outputs": [
        {
          "output_type": "execute_result",
          "data": {
            "text/plain": [
              "0.7723880597014925"
            ]
          },
          "metadata": {},
          "execution_count": 9
        }
      ]
    },
    {
      "cell_type": "code",
      "source": [
        "tree.plot_tree(clf)"
      ],
      "metadata": {
        "id": "OtqittQ49aGK",
        "colab": {
          "base_uri": "https://localhost:8080/",
          "height": 1000
        },
        "outputId": "cc4880d1-2596-40db-a421-97ae4827e2bf"
      },
      "execution_count": null,
      "outputs": [
        {
          "output_type": "execute_result",
          "data": {
            "text/plain": [
              "[Text(0.4736871868040089, 0.9782608695652174, 'x[0] <= 0.5\\ngini = 0.473\\nsamples = 623\\nvalue = [384, 239]'),\n",
              " Text(0.17844341592427618, 0.9347826086956522, 'x[2] <= 6.5\\ngini = 0.307\\nsamples = 406\\nvalue = [329, 77]'),\n",
              " Text(0.017817371937639197, 0.8913043478260869, 'x[4] <= 2.5\\ngini = 0.43\\nsamples = 16\\nvalue = [5, 11]'),\n",
              " Text(0.008908685968819599, 0.8478260869565217, 'gini = 0.0\\nsamples = 10\\nvalue = [0, 10]'),\n",
              " Text(0.026726057906458798, 0.8478260869565217, 'x[2] <= 2.5\\ngini = 0.278\\nsamples = 6\\nvalue = [5, 1]'),\n",
              " Text(0.017817371937639197, 0.8043478260869565, 'gini = 0.0\\nsamples = 3\\nvalue = [3, 0]'),\n",
              " Text(0.035634743875278395, 0.8043478260869565, 'x[2] <= 3.5\\ngini = 0.444\\nsamples = 3\\nvalue = [2, 1]'),\n",
              " Text(0.026726057906458798, 0.7608695652173914, 'gini = 0.0\\nsamples = 1\\nvalue = [0, 1]'),\n",
              " Text(0.044543429844097995, 0.7608695652173914, 'gini = 0.0\\nsamples = 2\\nvalue = [2, 0]'),\n",
              " Text(0.33906945991091314, 0.8913043478260869, 'x[1] <= 1.5\\ngini = 0.281\\nsamples = 390\\nvalue = [324, 66]'),\n",
              " Text(0.16202672605790647, 0.8478260869565217, 'x[2] <= 53.0\\ngini = 0.465\\nsamples = 87\\nvalue = [55, 32]'),\n",
              " Text(0.10801781737193764, 0.8043478260869565, 'x[2] <= 47.5\\ngini = 0.49\\nsamples = 70\\nvalue = [40, 30]'),\n",
              " Text(0.062360801781737196, 0.7608695652173914, 'x[3] <= 26.144\\ngini = 0.47\\nsamples = 61\\nvalue = [38, 23]'),\n",
              " Text(0.053452115812917596, 0.717391304347826, 'gini = 0.0\\nsamples = 6\\nvalue = [6, 0]'),\n",
              " Text(0.07126948775055679, 0.717391304347826, 'x[3] <= 27.135\\ngini = 0.487\\nsamples = 55\\nvalue = [32, 23]'),\n",
              " Text(0.0378619153674833, 0.6739130434782609, 'x[2] <= 43.5\\ngini = 0.32\\nsamples = 10\\nvalue = [2, 8]'),\n",
              " Text(0.028953229398663696, 0.6304347826086957, 'x[2] <= 31.85\\ngini = 0.219\\nsamples = 8\\nvalue = [1, 7]'),\n",
              " Text(0.0200445434298441, 0.5869565217391305, 'x[2] <= 28.85\\ngini = 0.444\\nsamples = 3\\nvalue = [1, 2]'),\n",
              " Text(0.011135857461024499, 0.5434782608695652, 'gini = 0.0\\nsamples = 1\\nvalue = [0, 1]'),\n",
              " Text(0.028953229398663696, 0.5434782608695652, 'gini = 0.5\\nsamples = 2\\nvalue = [1, 1]'),\n",
              " Text(0.0378619153674833, 0.5869565217391305, 'gini = 0.0\\nsamples = 5\\nvalue = [0, 5]'),\n",
              " Text(0.0467706013363029, 0.6304347826086957, 'gini = 0.5\\nsamples = 2\\nvalue = [1, 1]'),\n",
              " Text(0.10467706013363029, 0.6739130434782609, 'x[2] <= 27.5\\ngini = 0.444\\nsamples = 45\\nvalue = [30, 15]'),\n",
              " Text(0.0645879732739421, 0.6304347826086957, 'x[2] <= 24.5\\ngini = 0.486\\nsamples = 12\\nvalue = [5, 7]'),\n",
              " Text(0.0556792873051225, 0.5869565217391305, 'x[2] <= 17.5\\ngini = 0.469\\nsamples = 8\\nvalue = [5, 3]'),\n",
              " Text(0.0467706013363029, 0.5434782608695652, 'gini = 0.0\\nsamples = 2\\nvalue = [0, 2]'),\n",
              " Text(0.0645879732739421, 0.5434782608695652, 'x[2] <= 22.0\\ngini = 0.278\\nsamples = 6\\nvalue = [5, 1]'),\n",
              " Text(0.0556792873051225, 0.5, 'gini = 0.0\\nsamples = 4\\nvalue = [4, 0]'),\n",
              " Text(0.07349665924276169, 0.5, 'x[2] <= 23.5\\ngini = 0.5\\nsamples = 2\\nvalue = [1, 1]'),\n",
              " Text(0.0645879732739421, 0.45652173913043476, 'gini = 0.0\\nsamples = 1\\nvalue = [0, 1]'),\n",
              " Text(0.08240534521158129, 0.45652173913043476, 'gini = 0.0\\nsamples = 1\\nvalue = [1, 0]'),\n",
              " Text(0.07349665924276169, 0.5869565217391305, 'gini = 0.0\\nsamples = 4\\nvalue = [0, 4]'),\n",
              " Text(0.1447661469933185, 0.6304347826086957, 'x[3] <= 369.927\\ngini = 0.367\\nsamples = 33\\nvalue = [25, 8]'),\n",
              " Text(0.1358574610244989, 0.5869565217391305, 'x[4] <= 0.5\\ngini = 0.312\\nsamples = 31\\nvalue = [25, 6]'),\n",
              " Text(0.11804008908685969, 0.5434782608695652, 'x[3] <= 37.0\\ngini = 0.219\\nsamples = 24\\nvalue = [21, 3]'),\n",
              " Text(0.1091314031180401, 0.5, 'x[3] <= 29.1\\ngini = 0.355\\nsamples = 13\\nvalue = [10, 3]'),\n",
              " Text(0.10022271714922049, 0.45652173913043476, 'gini = 0.0\\nsamples = 4\\nvalue = [4, 0]'),\n",
              " Text(0.11804008908685969, 0.45652173913043476, 'x[2] <= 42.5\\ngini = 0.444\\nsamples = 9\\nvalue = [6, 3]'),\n",
              " Text(0.1091314031180401, 0.41304347826086957, 'x[3] <= 33.25\\ngini = 0.49\\nsamples = 7\\nvalue = [4, 3]'),\n",
              " Text(0.10022271714922049, 0.3695652173913043, 'x[2] <= 38.5\\ngini = 0.444\\nsamples = 6\\nvalue = [4, 2]'),\n",
              " Text(0.09131403118040089, 0.32608695652173914, 'x[3] <= 29.85\\ngini = 0.32\\nsamples = 5\\nvalue = [4, 1]'),\n",
              " Text(0.08240534521158129, 0.2826086956521739, 'x[2] <= 33.35\\ngini = 0.5\\nsamples = 2\\nvalue = [1, 1]'),\n",
              " Text(0.07349665924276169, 0.2391304347826087, 'gini = 0.0\\nsamples = 1\\nvalue = [0, 1]'),\n",
              " Text(0.09131403118040089, 0.2391304347826087, 'gini = 0.0\\nsamples = 1\\nvalue = [1, 0]'),\n",
              " Text(0.10022271714922049, 0.2826086956521739, 'gini = 0.0\\nsamples = 3\\nvalue = [3, 0]'),\n",
              " Text(0.1091314031180401, 0.32608695652173914, 'gini = 0.0\\nsamples = 1\\nvalue = [0, 1]'),\n",
              " Text(0.11804008908685969, 0.3695652173913043, 'gini = 0.0\\nsamples = 1\\nvalue = [0, 1]'),\n",
              " Text(0.12694877505567928, 0.41304347826086957, 'gini = 0.0\\nsamples = 2\\nvalue = [2, 0]'),\n",
              " Text(0.12694877505567928, 0.5, 'gini = 0.0\\nsamples = 11\\nvalue = [11, 0]'),\n",
              " Text(0.15367483296213807, 0.5434782608695652, 'x[2] <= 39.5\\ngini = 0.49\\nsamples = 7\\nvalue = [4, 3]'),\n",
              " Text(0.1447661469933185, 0.5, 'x[3] <= 67.925\\ngini = 0.48\\nsamples = 5\\nvalue = [2, 3]'),\n",
              " Text(0.1358574610244989, 0.45652173913043476, 'gini = 0.0\\nsamples = 2\\nvalue = [0, 2]'),\n",
              " Text(0.15367483296213807, 0.45652173913043476, 'x[3] <= 101.085\\ngini = 0.444\\nsamples = 3\\nvalue = [2, 1]'),\n",
              " Text(0.1447661469933185, 0.41304347826086957, 'gini = 0.0\\nsamples = 2\\nvalue = [2, 0]'),\n",
              " Text(0.16258351893095768, 0.41304347826086957, 'gini = 0.0\\nsamples = 1\\nvalue = [0, 1]'),\n",
              " Text(0.16258351893095768, 0.5, 'gini = 0.0\\nsamples = 2\\nvalue = [2, 0]'),\n",
              " Text(0.15367483296213807, 0.5869565217391305, 'gini = 0.0\\nsamples = 2\\nvalue = [0, 2]'),\n",
              " Text(0.15367483296213807, 0.7608695652173914, 'x[2] <= 49.5\\ngini = 0.346\\nsamples = 9\\nvalue = [2, 7]'),\n",
              " Text(0.1447661469933185, 0.717391304347826, 'gini = 0.0\\nsamples = 4\\nvalue = [0, 4]'),\n",
              " Text(0.16258351893095768, 0.717391304347826, 'x[3] <= 43.2\\ngini = 0.48\\nsamples = 5\\nvalue = [2, 3]'),\n",
              " Text(0.15367483296213807, 0.6739130434782609, 'gini = 0.0\\nsamples = 2\\nvalue = [0, 2]'),\n",
              " Text(0.1714922048997773, 0.6739130434782609, 'x[3] <= 120.037\\ngini = 0.444\\nsamples = 3\\nvalue = [2, 1]'),\n",
              " Text(0.16258351893095768, 0.6304347826086957, 'gini = 0.0\\nsamples = 2\\nvalue = [2, 0]'),\n",
              " Text(0.18040089086859687, 0.6304347826086957, 'gini = 0.0\\nsamples = 1\\nvalue = [0, 1]'),\n",
              " Text(0.21603563474387527, 0.8043478260869565, 'x[2] <= 75.5\\ngini = 0.208\\nsamples = 17\\nvalue = [15, 2]'),\n",
              " Text(0.2071269487750557, 0.7608695652173914, 'x[2] <= 57.0\\ngini = 0.117\\nsamples = 16\\nvalue = [15, 1]'),\n",
              " Text(0.19821826280623608, 0.717391304347826, 'x[2] <= 55.5\\ngini = 0.32\\nsamples = 5\\nvalue = [4, 1]'),\n",
              " Text(0.18930957683741648, 0.6739130434782609, 'gini = 0.0\\nsamples = 3\\nvalue = [3, 0]'),\n",
              " Text(0.2071269487750557, 0.6739130434782609, 'x[3] <= 33.098\\ngini = 0.5\\nsamples = 2\\nvalue = [1, 1]'),\n",
              " Text(0.19821826280623608, 0.6304347826086957, 'gini = 0.0\\nsamples = 1\\nvalue = [1, 0]'),\n",
              " Text(0.21603563474387527, 0.6304347826086957, 'gini = 0.0\\nsamples = 1\\nvalue = [0, 1]'),\n",
              " Text(0.21603563474387527, 0.717391304347826, 'gini = 0.0\\nsamples = 11\\nvalue = [11, 0]'),\n",
              " Text(0.22494432071269488, 0.7608695652173914, 'gini = 0.0\\nsamples = 1\\nvalue = [0, 1]'),\n",
              " Text(0.5161121937639198, 0.8478260869565217, 'x[2] <= 32.25\\ngini = 0.199\\nsamples = 303\\nvalue = [269, 34]'),\n",
              " Text(0.4509326280623608, 0.8043478260869565, 'x[2] <= 30.75\\ngini = 0.229\\nsamples = 228\\nvalue = [198, 30]'),\n",
              " Text(0.36511692650334077, 0.7608695652173914, 'x[3] <= 51.698\\ngini = 0.199\\nsamples = 214\\nvalue = [190, 24]'),\n",
              " Text(0.32544543429844097, 0.717391304347826, 'x[3] <= 23.625\\ngini = 0.19\\nsamples = 207\\nvalue = [185, 22]'),\n",
              " Text(0.31653674832962136, 0.6739130434782609, 'x[3] <= 22.465\\ngini = 0.203\\nsamples = 192\\nvalue = [170, 22]'),\n",
              " Text(0.30762806236080176, 0.6304347826086957, 'x[2] <= 13.5\\ngini = 0.196\\nsamples = 191\\nvalue = [170, 21]'),\n",
              " Text(0.23719376391982183, 0.5869565217391305, 'x[2] <= 11.5\\ngini = 0.5\\nsamples = 2\\nvalue = [1, 1]'),\n",
              " Text(0.22828507795100222, 0.5434782608695652, 'gini = 0.0\\nsamples = 1\\nvalue = [1, 0]'),\n",
              " Text(0.24610244988864144, 0.5434782608695652, 'gini = 0.0\\nsamples = 1\\nvalue = [0, 1]'),\n",
              " Text(0.37806236080178174, 0.5869565217391305, 'x[3] <= 15.173\\ngini = 0.189\\nsamples = 189\\nvalue = [169, 20]'),\n",
              " Text(0.2639198218262806, 0.5434782608695652, 'x[3] <= 7.183\\ngini = 0.176\\nsamples = 174\\nvalue = [157, 17]'),\n",
              " Text(0.19821826280623608, 0.5, 'x[3] <= 7.098\\ngini = 0.305\\nsamples = 16\\nvalue = [13, 3]'),\n",
              " Text(0.18930957683741648, 0.45652173913043476, 'x[2] <= 28.0\\ngini = 0.231\\nsamples = 15\\nvalue = [13, 2]'),\n",
              " Text(0.18040089086859687, 0.41304347826086957, 'x[2] <= 26.0\\ngini = 0.375\\nsamples = 8\\nvalue = [6, 2]'),\n",
              " Text(0.1714922048997773, 0.3695652173913043, 'x[3] <= 2.006\\ngini = 0.245\\nsamples = 7\\nvalue = [6, 1]'),\n",
              " Text(0.16258351893095768, 0.32608695652173914, 'x[2] <= 22.0\\ngini = 0.5\\nsamples = 2\\nvalue = [1, 1]'),\n",
              " Text(0.15367483296213807, 0.2826086956521739, 'gini = 0.0\\nsamples = 1\\nvalue = [1, 0]'),\n",
              " Text(0.1714922048997773, 0.2826086956521739, 'gini = 0.0\\nsamples = 1\\nvalue = [0, 1]'),\n",
              " Text(0.18040089086859687, 0.32608695652173914, 'gini = 0.0\\nsamples = 5\\nvalue = [5, 0]'),\n",
              " Text(0.18930957683741648, 0.3695652173913043, 'gini = 0.0\\nsamples = 1\\nvalue = [0, 1]'),\n",
              " Text(0.19821826280623608, 0.41304347826086957, 'gini = 0.0\\nsamples = 7\\nvalue = [7, 0]'),\n",
              " Text(0.2071269487750557, 0.45652173913043476, 'gini = 0.0\\nsamples = 1\\nvalue = [0, 1]'),\n",
              " Text(0.32962138084632514, 0.5, 'x[2] <= 20.25\\ngini = 0.162\\nsamples = 158\\nvalue = [144, 14]'),\n",
              " Text(0.26948775055679286, 0.45652173913043476, 'x[3] <= 8.104\\ngini = 0.251\\nsamples = 34\\nvalue = [29, 5]'),\n",
              " Text(0.23385300668151449, 0.41304347826086957, 'x[3] <= 7.91\\ngini = 0.332\\nsamples = 19\\nvalue = [15, 4]'),\n",
              " Text(0.2071269487750557, 0.3695652173913043, 'x[2] <= 19.5\\ngini = 0.153\\nsamples = 12\\nvalue = [11, 1]'),\n",
              " Text(0.19821826280623608, 0.32608695652173914, 'gini = 0.0\\nsamples = 10\\nvalue = [10, 0]'),\n",
              " Text(0.21603563474387527, 0.32608695652173914, 'x[3] <= 7.542\\ngini = 0.5\\nsamples = 2\\nvalue = [1, 1]'),\n",
              " Text(0.2071269487750557, 0.2826086956521739, 'gini = 0.0\\nsamples = 1\\nvalue = [0, 1]'),\n",
              " Text(0.22494432071269488, 0.2826086956521739, 'gini = 0.0\\nsamples = 1\\nvalue = [1, 0]'),\n",
              " Text(0.26057906458797325, 0.3695652173913043, 'x[4] <= 0.5\\ngini = 0.49\\nsamples = 7\\nvalue = [4, 3]'),\n",
              " Text(0.2516703786191537, 0.32608695652173914, 'x[2] <= 18.5\\ngini = 0.444\\nsamples = 6\\nvalue = [4, 2]'),\n",
              " Text(0.24276169265033407, 0.2826086956521739, 'x[2] <= 17.0\\ngini = 0.444\\nsamples = 3\\nvalue = [1, 2]'),\n",
              " Text(0.23385300668151449, 0.2391304347826087, 'gini = 0.5\\nsamples = 2\\nvalue = [1, 1]'),\n",
              " Text(0.2516703786191537, 0.2391304347826087, 'gini = 0.0\\nsamples = 1\\nvalue = [0, 1]'),\n",
              " Text(0.26057906458797325, 0.2826086956521739, 'gini = 0.0\\nsamples = 3\\nvalue = [3, 0]'),\n",
              " Text(0.26948775055679286, 0.32608695652173914, 'gini = 0.0\\nsamples = 1\\nvalue = [0, 1]'),\n",
              " Text(0.3051224944320713, 0.41304347826086957, 'x[1] <= 2.5\\ngini = 0.124\\nsamples = 15\\nvalue = [14, 1]'),\n",
              " Text(0.2962138084632517, 0.3695652173913043, 'x[3] <= 11.0\\ngini = 0.32\\nsamples = 5\\nvalue = [4, 1]'),\n",
              " Text(0.2873051224944321, 0.32608695652173914, 'gini = 0.0\\nsamples = 1\\nvalue = [0, 1]'),\n",
              " Text(0.3051224944320713, 0.32608695652173914, 'gini = 0.0\\nsamples = 4\\nvalue = [4, 0]'),\n",
              " Text(0.31403118040089084, 0.3695652173913043, 'gini = 0.0\\nsamples = 10\\nvalue = [10, 0]'),\n",
              " Text(0.3897550111358575, 0.45652173913043476, 'x[2] <= 28.75\\ngini = 0.135\\nsamples = 124\\nvalue = [115, 9]'),\n",
              " Text(0.34075723830734966, 0.41304347826086957, 'x[3] <= 7.798\\ngini = 0.069\\nsamples = 56\\nvalue = [54, 2]'),\n",
              " Text(0.33184855233853006, 0.3695652173913043, 'x[3] <= 7.758\\ngini = 0.18\\nsamples = 20\\nvalue = [18, 2]'),\n",
              " Text(0.32293986636971045, 0.32608695652173914, 'gini = 0.0\\nsamples = 15\\nvalue = [15, 0]'),\n",
              " Text(0.34075723830734966, 0.32608695652173914, 'x[2] <= 21.5\\ngini = 0.48\\nsamples = 5\\nvalue = [3, 2]'),\n",
              " Text(0.33184855233853006, 0.2826086956521739, 'gini = 0.0\\nsamples = 1\\nvalue = [0, 1]'),\n",
              " Text(0.34966592427616927, 0.2826086956521739, 'x[3] <= 7.785\\ngini = 0.375\\nsamples = 4\\nvalue = [3, 1]'),\n",
              " Text(0.34075723830734966, 0.2391304347826087, 'gini = 0.5\\nsamples = 2\\nvalue = [1, 1]'),\n",
              " Text(0.3585746102449889, 0.2391304347826087, 'gini = 0.0\\nsamples = 2\\nvalue = [2, 0]'),\n",
              " Text(0.34966592427616927, 0.3695652173913043, 'gini = 0.0\\nsamples = 36\\nvalue = [36, 0]'),\n",
              " Text(0.43875278396436523, 0.41304347826086957, 'x[3] <= 8.081\\ngini = 0.185\\nsamples = 68\\nvalue = [61, 7]'),\n",
              " Text(0.40311804008908686, 0.3695652173913043, 'x[2] <= 29.35\\ngini = 0.107\\nsamples = 53\\nvalue = [50, 3]'),\n",
              " Text(0.37639198218262804, 0.32608695652173914, 'x[3] <= 7.885\\ngini = 0.375\\nsamples = 4\\nvalue = [3, 1]'),\n",
              " Text(0.3674832962138085, 0.2826086956521739, 'gini = 0.0\\nsamples = 2\\nvalue = [2, 0]'),\n",
              " Text(0.38530066815144765, 0.2826086956521739, 'x[3] <= 7.973\\ngini = 0.5\\nsamples = 2\\nvalue = [1, 1]'),\n",
              " Text(0.37639198218262804, 0.2391304347826087, 'gini = 0.0\\nsamples = 1\\nvalue = [0, 1]'),\n",
              " Text(0.39420935412026725, 0.2391304347826087, 'gini = 0.0\\nsamples = 1\\nvalue = [1, 0]'),\n",
              " Text(0.4298440979955457, 0.32608695652173914, 'x[3] <= 7.802\\ngini = 0.078\\nsamples = 49\\nvalue = [47, 2]'),\n",
              " Text(0.4209354120267261, 0.2826086956521739, 'x[3] <= 7.763\\ngini = 0.142\\nsamples = 26\\nvalue = [24, 2]'),\n",
              " Text(0.41202672605790647, 0.2391304347826087, 'x[3] <= 7.24\\ngini = 0.08\\nsamples = 24\\nvalue = [23, 1]'),\n",
              " Text(0.40311804008908686, 0.1956521739130435, 'x[3] <= 7.227\\ngini = 0.153\\nsamples = 12\\nvalue = [11, 1]'),\n",
              " Text(0.39420935412026725, 0.15217391304347827, 'gini = 0.0\\nsamples = 6\\nvalue = [6, 0]'),\n",
              " Text(0.41202672605790647, 0.15217391304347827, 'x[2] <= 29.85\\ngini = 0.278\\nsamples = 6\\nvalue = [5, 1]'),\n",
              " Text(0.40311804008908686, 0.10869565217391304, 'gini = 0.32\\nsamples = 5\\nvalue = [4, 1]'),\n",
              " Text(0.4209354120267261, 0.10869565217391304, 'gini = 0.0\\nsamples = 1\\nvalue = [1, 0]'),\n",
              " Text(0.4209354120267261, 0.1956521739130435, 'gini = 0.0\\nsamples = 12\\nvalue = [12, 0]'),\n",
              " Text(0.4298440979955457, 0.2391304347826087, 'gini = 0.5\\nsamples = 2\\nvalue = [1, 1]'),\n",
              " Text(0.43875278396436523, 0.2826086956521739, 'gini = 0.0\\nsamples = 23\\nvalue = [23, 0]'),\n",
              " Text(0.47438752783964366, 0.3695652173913043, 'x[3] <= 8.412\\ngini = 0.391\\nsamples = 15\\nvalue = [11, 4]'),\n",
              " Text(0.46547884187082406, 0.32608695652173914, 'gini = 0.0\\nsamples = 1\\nvalue = [0, 1]'),\n",
              " Text(0.48329621380846327, 0.32608695652173914, 'x[3] <= 14.16\\ngini = 0.337\\nsamples = 14\\nvalue = [11, 3]'),\n",
              " Text(0.47438752783964366, 0.2826086956521739, 'x[3] <= 13.431\\ngini = 0.42\\nsamples = 10\\nvalue = [7, 3]'),\n",
              " Text(0.46547884187082406, 0.2391304347826087, 'x[2] <= 29.85\\ngini = 0.346\\nsamples = 9\\nvalue = [7, 2]'),\n",
              " Text(0.45657015590200445, 0.1956521739130435, 'x[3] <= 11.75\\ngini = 0.444\\nsamples = 6\\nvalue = [4, 2]'),\n",
              " Text(0.44766146993318484, 0.15217391304347827, 'x[3] <= 9.492\\ngini = 0.32\\nsamples = 5\\nvalue = [4, 1]'),\n",
              " Text(0.43875278396436523, 0.10869565217391304, 'gini = 0.0\\nsamples = 2\\nvalue = [2, 0]'),\n",
              " Text(0.45657015590200445, 0.10869565217391304, 'x[2] <= 29.35\\ngini = 0.444\\nsamples = 3\\nvalue = [2, 1]'),\n",
              " Text(0.44766146993318484, 0.06521739130434782, 'x[3] <= 10.0\\ngini = 0.5\\nsamples = 2\\nvalue = [1, 1]'),\n",
              " Text(0.43875278396436523, 0.021739130434782608, 'gini = 0.0\\nsamples = 1\\nvalue = [0, 1]'),\n",
              " Text(0.45657015590200445, 0.021739130434782608, 'gini = 0.0\\nsamples = 1\\nvalue = [1, 0]'),\n",
              " Text(0.46547884187082406, 0.06521739130434782, 'gini = 0.0\\nsamples = 1\\nvalue = [1, 0]'),\n",
              " Text(0.46547884187082406, 0.15217391304347827, 'gini = 0.0\\nsamples = 1\\nvalue = [0, 1]'),\n",
              " Text(0.47438752783964366, 0.1956521739130435, 'gini = 0.0\\nsamples = 3\\nvalue = [3, 0]'),\n",
              " Text(0.48329621380846327, 0.2391304347826087, 'gini = 0.0\\nsamples = 1\\nvalue = [0, 1]'),\n",
              " Text(0.4922048997772829, 0.2826086956521739, 'gini = 0.0\\nsamples = 4\\nvalue = [4, 0]'),\n",
              " Text(0.4922048997772829, 0.5434782608695652, 'x[3] <= 15.373\\ngini = 0.32\\nsamples = 15\\nvalue = [12, 3]'),\n",
              " Text(0.48329621380846327, 0.5, 'gini = 0.0\\nsamples = 1\\nvalue = [0, 1]'),\n",
              " Text(0.5011135857461024, 0.5, 'x[2] <= 27.0\\ngini = 0.245\\nsamples = 14\\nvalue = [12, 2]'),\n",
              " Text(0.4922048997772829, 0.45652173913043476, 'x[3] <= 15.921\\ngini = 0.444\\nsamples = 6\\nvalue = [4, 2]'),\n",
              " Text(0.48329621380846327, 0.41304347826086957, 'gini = 0.0\\nsamples = 1\\nvalue = [0, 1]'),\n",
              " Text(0.5011135857461024, 0.41304347826086957, 'x[2] <= 25.0\\ngini = 0.32\\nsamples = 5\\nvalue = [4, 1]'),\n",
              " Text(0.4922048997772829, 0.3695652173913043, 'gini = 0.0\\nsamples = 3\\nvalue = [3, 0]'),\n",
              " Text(0.5100222717149221, 0.3695652173913043, 'x[4] <= 0.5\\ngini = 0.5\\nsamples = 2\\nvalue = [1, 1]'),\n",
              " Text(0.5011135857461024, 0.32608695652173914, 'gini = 0.0\\nsamples = 1\\nvalue = [0, 1]'),\n",
              " Text(0.5189309576837416, 0.32608695652173914, 'gini = 0.0\\nsamples = 1\\nvalue = [1, 0]'),\n",
              " Text(0.5100222717149221, 0.45652173913043476, 'gini = 0.0\\nsamples = 8\\nvalue = [8, 0]'),\n",
              " Text(0.32544543429844097, 0.6304347826086957, 'gini = 0.0\\nsamples = 1\\nvalue = [0, 1]'),\n",
              " Text(0.3343541202672606, 0.6739130434782609, 'gini = 0.0\\nsamples = 15\\nvalue = [15, 0]'),\n",
              " Text(0.40478841870824056, 0.717391304347826, 'x[3] <= 63.023\\ngini = 0.408\\nsamples = 7\\nvalue = [5, 2]'),\n",
              " Text(0.39587973273942095, 0.6739130434782609, 'x[2] <= 27.0\\ngini = 0.444\\nsamples = 3\\nvalue = [1, 2]'),\n",
              " Text(0.38697104677060135, 0.6304347826086957, 'gini = 0.0\\nsamples = 1\\nvalue = [0, 1]'),\n",
              " Text(0.40478841870824056, 0.6304347826086957, 'x[2] <= 28.85\\ngini = 0.5\\nsamples = 2\\nvalue = [1, 1]'),\n",
              " Text(0.39587973273942095, 0.5869565217391305, 'gini = 0.0\\nsamples = 1\\nvalue = [1, 0]'),\n",
              " Text(0.4136971046770601, 0.5869565217391305, 'gini = 0.0\\nsamples = 1\\nvalue = [0, 1]'),\n",
              " Text(0.4136971046770601, 0.6739130434782609, 'gini = 0.0\\nsamples = 4\\nvalue = [4, 0]'),\n",
              " Text(0.5367483296213809, 0.7608695652173914, 'x[3] <= 26.125\\ngini = 0.49\\nsamples = 14\\nvalue = [8, 6]'),\n",
              " Text(0.5278396436525612, 0.717391304347826, 'x[3] <= 11.75\\ngini = 0.5\\nsamples = 12\\nvalue = [6, 6]'),\n",
              " Text(0.5189309576837416, 0.6739130434782609, 'x[3] <= 8.206\\ngini = 0.48\\nsamples = 10\\nvalue = [6, 4]'),\n",
              " Text(0.5100222717149221, 0.6304347826086957, 'x[3] <= 7.802\\ngini = 0.5\\nsamples = 8\\nvalue = [4, 4]'),\n",
              " Text(0.5011135857461024, 0.5869565217391305, 'gini = 0.0\\nsamples = 1\\nvalue = [1, 0]'),\n",
              " Text(0.5189309576837416, 0.5869565217391305, 'x[2] <= 31.5\\ngini = 0.49\\nsamples = 7\\nvalue = [3, 4]'),\n",
              " Text(0.5100222717149221, 0.5434782608695652, 'gini = 0.0\\nsamples = 1\\nvalue = [0, 1]'),\n",
              " Text(0.5278396436525612, 0.5434782608695652, 'x[3] <= 7.875\\ngini = 0.5\\nsamples = 6\\nvalue = [3, 3]'),\n",
              " Text(0.5189309576837416, 0.5, 'gini = 0.0\\nsamples = 1\\nvalue = [0, 1]'),\n",
              " Text(0.5367483296213809, 0.5, 'x[3] <= 7.988\\ngini = 0.48\\nsamples = 5\\nvalue = [3, 2]'),\n",
              " Text(0.5278396436525612, 0.45652173913043476, 'x[3] <= 7.91\\ngini = 0.375\\nsamples = 4\\nvalue = [3, 1]'),\n",
              " Text(0.5189309576837416, 0.41304347826086957, 'gini = 0.0\\nsamples = 1\\nvalue = [1, 0]'),\n",
              " Text(0.5367483296213809, 0.41304347826086957, 'gini = 0.444\\nsamples = 3\\nvalue = [2, 1]'),\n",
              " Text(0.5456570155902004, 0.45652173913043476, 'gini = 0.0\\nsamples = 1\\nvalue = [0, 1]'),\n",
              " Text(0.5278396436525612, 0.6304347826086957, 'gini = 0.0\\nsamples = 2\\nvalue = [2, 0]'),\n",
              " Text(0.5367483296213809, 0.6739130434782609, 'gini = 0.0\\nsamples = 2\\nvalue = [0, 2]'),\n",
              " Text(0.5456570155902004, 0.717391304347826, 'gini = 0.0\\nsamples = 2\\nvalue = [2, 0]'),\n",
              " Text(0.5812917594654788, 0.8043478260869565, 'x[2] <= 38.5\\ngini = 0.101\\nsamples = 75\\nvalue = [71, 4]'),\n",
              " Text(0.5723830734966593, 0.7608695652173914, 'gini = 0.0\\nsamples = 31\\nvalue = [31, 0]'),\n",
              " Text(0.5902004454342984, 0.7608695652173914, 'x[2] <= 45.5\\ngini = 0.165\\nsamples = 44\\nvalue = [40, 4]'),\n",
              " Text(0.5812917594654788, 0.717391304347826, 'x[2] <= 43.5\\ngini = 0.269\\nsamples = 25\\nvalue = [21, 4]'),\n",
              " Text(0.5545657015590201, 0.6739130434782609, 'x[3] <= 7.91\\ngini = 0.18\\nsamples = 20\\nvalue = [18, 2]'),\n",
              " Text(0.5456570155902004, 0.6304347826086957, 'gini = 0.0\\nsamples = 6\\nvalue = [6, 0]'),\n",
              " Text(0.5634743875278396, 0.6304347826086957, 'x[3] <= 7.988\\ngini = 0.245\\nsamples = 14\\nvalue = [12, 2]'),\n",
              " Text(0.5545657015590201, 0.5869565217391305, 'gini = 0.5\\nsamples = 2\\nvalue = [1, 1]'),\n",
              " Text(0.5723830734966593, 0.5869565217391305, 'x[2] <= 41.5\\ngini = 0.153\\nsamples = 12\\nvalue = [11, 1]'),\n",
              " Text(0.5634743875278396, 0.5434782608695652, 'gini = 0.0\\nsamples = 6\\nvalue = [6, 0]'),\n",
              " Text(0.5812917594654788, 0.5434782608695652, 'x[1] <= 2.5\\ngini = 0.278\\nsamples = 6\\nvalue = [5, 1]'),\n",
              " Text(0.5723830734966593, 0.5, 'x[3] <= 19.625\\ngini = 0.375\\nsamples = 4\\nvalue = [3, 1]'),\n",
              " Text(0.5634743875278396, 0.45652173913043476, 'gini = 0.5\\nsamples = 2\\nvalue = [1, 1]'),\n",
              " Text(0.5812917594654788, 0.45652173913043476, 'gini = 0.0\\nsamples = 2\\nvalue = [2, 0]'),\n",
              " Text(0.5902004454342984, 0.5, 'gini = 0.0\\nsamples = 2\\nvalue = [2, 0]'),\n",
              " Text(0.6080178173719376, 0.6739130434782609, 'x[3] <= 7.45\\ngini = 0.48\\nsamples = 5\\nvalue = [3, 2]'),\n",
              " Text(0.5991091314031181, 0.6304347826086957, 'gini = 0.0\\nsamples = 1\\nvalue = [1, 0]'),\n",
              " Text(0.6169265033407573, 0.6304347826086957, 'x[2] <= 44.5\\ngini = 0.5\\nsamples = 4\\nvalue = [2, 2]'),\n",
              " Text(0.6080178173719376, 0.5869565217391305, 'x[3] <= 7.988\\ngini = 0.444\\nsamples = 3\\nvalue = [2, 1]'),\n",
              " Text(0.5991091314031181, 0.5434782608695652, 'gini = 0.0\\nsamples = 1\\nvalue = [0, 1]'),\n",
              " Text(0.6169265033407573, 0.5434782608695652, 'gini = 0.0\\nsamples = 2\\nvalue = [2, 0]'),\n",
              " Text(0.6258351893095768, 0.5869565217391305, 'gini = 0.0\\nsamples = 1\\nvalue = [0, 1]'),\n",
              " Text(0.5991091314031181, 0.717391304347826, 'gini = 0.0\\nsamples = 19\\nvalue = [19, 0]'),\n",
              " Text(0.7689309576837416, 0.9347826086956522, 'x[1] <= 2.5\\ngini = 0.378\\nsamples = 217\\nvalue = [55, 162]'),\n",
              " Text(0.7015590200445434, 0.8913043478260869, 'x[2] <= 2.5\\ngini = 0.096\\nsamples = 119\\nvalue = [6, 113]'),\n",
              " Text(0.6926503340757239, 0.8478260869565217, 'gini = 0.0\\nsamples = 1\\nvalue = [1, 0]'),\n",
              " Text(0.7104677060133631, 0.8478260869565217, 'x[3] <= 22.0\\ngini = 0.081\\nsamples = 118\\nvalue = [5, 113]'),\n",
              " Text(0.688195991091314, 0.8043478260869565, 'x[2] <= 56.0\\ngini = 0.245\\nsamples = 28\\nvalue = [4, 24]'),\n",
              " Text(0.6792873051224945, 0.7608695652173914, 'x[3] <= 20.25\\ngini = 0.198\\nsamples = 27\\nvalue = [3, 24]'),\n",
              " Text(0.6614699331848553, 0.717391304347826, 'x[3] <= 13.25\\ngini = 0.147\\nsamples = 25\\nvalue = [2, 23]'),\n",
              " Text(0.6525612472160356, 0.6739130434782609, 'x[3] <= 12.675\\ngini = 0.208\\nsamples = 17\\nvalue = [2, 15]'),\n",
              " Text(0.643652561247216, 0.6304347826086957, 'gini = 0.0\\nsamples = 7\\nvalue = [0, 7]'),\n",
              " Text(0.6614699331848553, 0.6304347826086957, 'x[2] <= 26.0\\ngini = 0.32\\nsamples = 10\\nvalue = [2, 8]'),\n",
              " Text(0.643652561247216, 0.5869565217391305, 'x[2] <= 21.0\\ngini = 0.5\\nsamples = 2\\nvalue = [1, 1]'),\n",
              " Text(0.6347438752783965, 0.5434782608695652, 'gini = 0.0\\nsamples = 1\\nvalue = [0, 1]'),\n",
              " Text(0.6525612472160356, 0.5434782608695652, 'gini = 0.0\\nsamples = 1\\nvalue = [1, 0]'),\n",
              " Text(0.6792873051224945, 0.5869565217391305, 'x[2] <= 37.0\\ngini = 0.219\\nsamples = 8\\nvalue = [1, 7]'),\n",
              " Text(0.6703786191536748, 0.5434782608695652, 'gini = 0.0\\nsamples = 5\\nvalue = [0, 5]'),\n",
              " Text(0.688195991091314, 0.5434782608695652, 'x[2] <= 39.0\\ngini = 0.444\\nsamples = 3\\nvalue = [1, 2]'),\n",
              " Text(0.6792873051224945, 0.5, 'gini = 0.0\\nsamples = 1\\nvalue = [1, 0]'),\n",
              " Text(0.6971046770601337, 0.5, 'gini = 0.0\\nsamples = 2\\nvalue = [0, 2]'),\n",
              " Text(0.6703786191536748, 0.6739130434782609, 'gini = 0.0\\nsamples = 8\\nvalue = [0, 8]'),\n",
              " Text(0.6971046770601337, 0.717391304347826, 'x[2] <= 28.5\\ngini = 0.5\\nsamples = 2\\nvalue = [1, 1]'),\n",
              " Text(0.688195991091314, 0.6739130434782609, 'gini = 0.0\\nsamples = 1\\nvalue = [1, 0]'),\n",
              " Text(0.7060133630289532, 0.6739130434782609, 'gini = 0.0\\nsamples = 1\\nvalue = [0, 1]'),\n",
              " Text(0.6971046770601337, 0.7608695652173914, 'gini = 0.0\\nsamples = 1\\nvalue = [1, 0]'),\n",
              " Text(0.732739420935412, 0.8043478260869565, 'x[2] <= 49.5\\ngini = 0.022\\nsamples = 90\\nvalue = [1, 89]'),\n",
              " Text(0.7238307349665924, 0.7608695652173914, 'gini = 0.0\\nsamples = 78\\nvalue = [0, 78]'),\n",
              " Text(0.7416481069042317, 0.7608695652173914, 'x[2] <= 50.5\\ngini = 0.153\\nsamples = 12\\nvalue = [1, 11]'),\n",
              " Text(0.732739420935412, 0.717391304347826, 'x[1] <= 1.5\\ngini = 0.5\\nsamples = 2\\nvalue = [1, 1]'),\n",
              " Text(0.7238307349665924, 0.6739130434782609, 'gini = 0.0\\nsamples = 1\\nvalue = [1, 0]'),\n",
              " Text(0.7416481069042317, 0.6739130434782609, 'gini = 0.0\\nsamples = 1\\nvalue = [0, 1]'),\n",
              " Text(0.7505567928730512, 0.717391304347826, 'gini = 0.0\\nsamples = 10\\nvalue = [0, 10]'),\n",
              " Text(0.8363028953229399, 0.8913043478260869, 'x[3] <= 24.808\\ngini = 0.5\\nsamples = 98\\nvalue = [49, 49]'),\n",
              " Text(0.8273942093541202, 0.8478260869565217, 'x[3] <= 8.04\\ngini = 0.478\\nsamples = 81\\nvalue = [32, 49]'),\n",
              " Text(0.7861915367483296, 0.8043478260869565, 'x[2] <= 30.35\\ngini = 0.358\\nsamples = 30\\nvalue = [7, 23]'),\n",
              " Text(0.77728285077951, 0.7608695652173914, 'x[3] <= 7.59\\ngini = 0.328\\nsamples = 29\\nvalue = [6, 23]'),\n",
              " Text(0.7683741648106904, 0.717391304347826, 'gini = 0.0\\nsamples = 5\\nvalue = [0, 5]'),\n",
              " Text(0.7861915367483296, 0.717391304347826, 'x[2] <= 14.5\\ngini = 0.375\\nsamples = 24\\nvalue = [6, 18]'),\n",
              " Text(0.77728285077951, 0.6739130434782609, 'gini = 0.0\\nsamples = 1\\nvalue = [1, 0]'),\n",
              " Text(0.7951002227171492, 0.6739130434782609, 'x[3] <= 7.681\\ngini = 0.34\\nsamples = 23\\nvalue = [5, 18]'),\n",
              " Text(0.7861915367483296, 0.6304347826086957, 'gini = 0.0\\nsamples = 1\\nvalue = [1, 0]'),\n",
              " Text(0.8040089086859689, 0.6304347826086957, 'x[4] <= 0.5\\ngini = 0.298\\nsamples = 22\\nvalue = [4, 18]'),\n",
              " Text(0.7861915367483296, 0.5869565217391305, 'x[3] <= 7.763\\ngini = 0.255\\nsamples = 20\\nvalue = [3, 17]'),\n",
              " Text(0.77728285077951, 0.5434782608695652, 'x[2] <= 18.5\\ngini = 0.375\\nsamples = 12\\nvalue = [3, 9]'),\n",
              " Text(0.7683741648106904, 0.5, 'gini = 0.0\\nsamples = 2\\nvalue = [0, 2]'),\n",
              " Text(0.7861915367483296, 0.5, 'x[2] <= 21.5\\ngini = 0.42\\nsamples = 10\\nvalue = [3, 7]'),\n",
              " Text(0.77728285077951, 0.45652173913043476, 'gini = 0.0\\nsamples = 1\\nvalue = [1, 0]'),\n",
              " Text(0.7951002227171492, 0.45652173913043476, 'x[2] <= 25.85\\ngini = 0.346\\nsamples = 9\\nvalue = [2, 7]'),\n",
              " Text(0.7861915367483296, 0.41304347826086957, 'gini = 0.0\\nsamples = 2\\nvalue = [0, 2]'),\n",
              " Text(0.8040089086859689, 0.41304347826086957, 'x[3] <= 7.744\\ngini = 0.408\\nsamples = 7\\nvalue = [2, 5]'),\n",
              " Text(0.7951002227171492, 0.3695652173913043, 'gini = 0.0\\nsamples = 1\\nvalue = [0, 1]'),\n",
              " Text(0.8129175946547884, 0.3695652173913043, 'gini = 0.444\\nsamples = 6\\nvalue = [2, 4]'),\n",
              " Text(0.7951002227171492, 0.5434782608695652, 'gini = 0.0\\nsamples = 8\\nvalue = [0, 8]'),\n",
              " Text(0.821826280623608, 0.5869565217391305, 'x[4] <= 2.5\\ngini = 0.5\\nsamples = 2\\nvalue = [1, 1]'),\n",
              " Text(0.8129175946547884, 0.5434782608695652, 'gini = 0.0\\nsamples = 1\\nvalue = [1, 0]'),\n",
              " Text(0.8307349665924276, 0.5434782608695652, 'gini = 0.0\\nsamples = 1\\nvalue = [0, 1]'),\n",
              " Text(0.7951002227171492, 0.7608695652173914, 'gini = 0.0\\nsamples = 1\\nvalue = [1, 0]'),\n",
              " Text(0.8685968819599109, 0.8043478260869565, 'x[2] <= 6.5\\ngini = 0.5\\nsamples = 51\\nvalue = [25, 26]'),\n",
              " Text(0.8396436525612472, 0.7608695652173914, 'x[4] <= 2.5\\ngini = 0.245\\nsamples = 7\\nvalue = [1, 6]'),\n",
              " Text(0.8307349665924276, 0.717391304347826, 'gini = 0.0\\nsamples = 6\\nvalue = [0, 6]'),\n",
              " Text(0.8485523385300668, 0.717391304347826, 'gini = 0.0\\nsamples = 1\\nvalue = [1, 0]'),\n",
              " Text(0.8975501113585747, 0.7608695652173914, 'x[2] <= 23.0\\ngini = 0.496\\nsamples = 44\\nvalue = [24, 20]'),\n",
              " Text(0.8663697104677061, 0.717391304347826, 'x[2] <= 19.0\\ngini = 0.32\\nsamples = 15\\nvalue = [12, 3]'),\n",
              " Text(0.8574610244988864, 0.6739130434782609, 'x[3] <= 12.148\\ngini = 0.42\\nsamples = 10\\nvalue = [7, 3]'),\n",
              " Text(0.8485523385300668, 0.6304347826086957, 'gini = 0.0\\nsamples = 2\\nvalue = [0, 2]'),\n",
              " Text(0.8663697104677061, 0.6304347826086957, 'x[3] <= 14.456\\ngini = 0.219\\nsamples = 8\\nvalue = [7, 1]'),\n",
              " Text(0.8574610244988864, 0.5869565217391305, 'x[4] <= 0.5\\ngini = 0.444\\nsamples = 3\\nvalue = [2, 1]'),\n",
              " Text(0.8485523385300668, 0.5434782608695652, 'gini = 0.0\\nsamples = 1\\nvalue = [1, 0]'),\n",
              " Text(0.8663697104677061, 0.5434782608695652, 'x[2] <= 14.75\\ngini = 0.5\\nsamples = 2\\nvalue = [1, 1]'),\n",
              " Text(0.8574610244988864, 0.5, 'gini = 0.0\\nsamples = 1\\nvalue = [1, 0]'),\n",
              " Text(0.8752783964365256, 0.5, 'gini = 0.0\\nsamples = 1\\nvalue = [0, 1]'),\n",
              " Text(0.8752783964365256, 0.5869565217391305, 'gini = 0.0\\nsamples = 5\\nvalue = [5, 0]'),\n",
              " Text(0.8752783964365256, 0.6739130434782609, 'gini = 0.0\\nsamples = 5\\nvalue = [5, 0]'),\n",
              " Text(0.9287305122494433, 0.717391304347826, 'x[3] <= 14.852\\ngini = 0.485\\nsamples = 29\\nvalue = [12, 17]'),\n",
              " Text(0.910913140311804, 0.6739130434782609, 'x[3] <= 13.438\\ngini = 0.473\\nsamples = 13\\nvalue = [8, 5]'),\n",
              " Text(0.9020044543429844, 0.6304347826086957, 'x[3] <= 10.798\\ngini = 0.494\\nsamples = 9\\nvalue = [4, 5]'),\n",
              " Text(0.8930957683741648, 0.5869565217391305, 'x[2] <= 30.35\\ngini = 0.444\\nsamples = 6\\nvalue = [4, 2]'),\n",
              " Text(0.8841870824053452, 0.5434782608695652, 'gini = 0.0\\nsamples = 4\\nvalue = [4, 0]'),\n",
              " Text(0.9020044543429844, 0.5434782608695652, 'gini = 0.0\\nsamples = 2\\nvalue = [0, 2]'),\n",
              " Text(0.910913140311804, 0.5869565217391305, 'gini = 0.0\\nsamples = 3\\nvalue = [0, 3]'),\n",
              " Text(0.9198218262806236, 0.6304347826086957, 'gini = 0.0\\nsamples = 4\\nvalue = [4, 0]'),\n",
              " Text(0.9465478841870824, 0.6739130434782609, 'x[3] <= 17.35\\ngini = 0.375\\nsamples = 16\\nvalue = [4, 12]'),\n",
              " Text(0.9376391982182628, 0.6304347826086957, 'gini = 0.0\\nsamples = 8\\nvalue = [0, 8]'),\n",
              " Text(0.955456570155902, 0.6304347826086957, 'x[3] <= 20.231\\ngini = 0.5\\nsamples = 8\\nvalue = [4, 4]'),\n",
              " Text(0.9465478841870824, 0.5869565217391305, 'gini = 0.0\\nsamples = 2\\nvalue = [2, 0]'),\n",
              " Text(0.9643652561247216, 0.5869565217391305, 'x[2] <= 29.35\\ngini = 0.444\\nsamples = 6\\nvalue = [2, 4]'),\n",
              " Text(0.955456570155902, 0.5434782608695652, 'gini = 0.0\\nsamples = 1\\nvalue = [1, 0]'),\n",
              " Text(0.9732739420935412, 0.5434782608695652, 'x[3] <= 22.904\\ngini = 0.32\\nsamples = 5\\nvalue = [1, 4]'),\n",
              " Text(0.9643652561247216, 0.5, 'gini = 0.0\\nsamples = 3\\nvalue = [0, 3]'),\n",
              " Text(0.9821826280623608, 0.5, 'x[3] <= 23.8\\ngini = 0.5\\nsamples = 2\\nvalue = [1, 1]'),\n",
              " Text(0.9732739420935412, 0.45652173913043476, 'gini = 0.0\\nsamples = 1\\nvalue = [1, 0]'),\n",
              " Text(0.9910913140311804, 0.45652173913043476, 'gini = 0.0\\nsamples = 1\\nvalue = [0, 1]'),\n",
              " Text(0.8452115812917594, 0.8478260869565217, 'gini = 0.0\\nsamples = 17\\nvalue = [17, 0]')]"
            ]
          },
          "metadata": {},
          "execution_count": 10
        },
        {
          "output_type": "display_data",
          "data": {
            "text/plain": [
              "<Figure size 640x480 with 1 Axes>"
            ],
            "image/png": "[encoded data removed]"
          },
          "metadata": {}
        }
      ]
    },
    {
      "cell_type": "code",
      "source": [],
      "metadata": {
        "id": "c29sLGWm9qqg"
      },
      "execution_count": null,
      "outputs": []
    }
  ]
}