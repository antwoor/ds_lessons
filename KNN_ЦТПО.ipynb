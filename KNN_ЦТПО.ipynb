{
  "nbformat": 4,
  "nbformat_minor": 0,
  "metadata": {
    "colab": {
      "provenance": [],
      "include_colab_link": true
    },
    "kernelspec": {
      "name": "python3",
      "display_name": "Python 3"
    },
    "language_info": {
      "name": "python"
    }
  },
  "cells": [
    {
      "cell_type": "markdown",
      "metadata": {
        "id": "view-in-github",
        "colab_type": "text"
      },
      "source": [
        "<a href=\"https://colab.research.google.com/github/antwoor/ds_lessons/blob/master/KNN_%D0%A6%D0%A2%D0%9F%D0%9E.ipynb\" target=\"_parent\"><img src=\"https://colab.research.google.com/assets/colab-badge.svg\" alt=\"Open In Colab\"/></a>"
      ]
    },
    {
      "cell_type": "code",
      "execution_count": null,
      "metadata": {
        "id": "hEBYgLLB7p_H"
      },
      "outputs": [],
      "source": [
        "import pandas as pd\n",
        "import numpy as np\n",
        "import matplotlib.pyplot as plt\n",
        "from sklearn.linear_model import LogisticRegression\n",
        "from sklearn.model_selection import train_test_split"
      ]
    },
    {
      "cell_type": "code",
      "source": [
        "df = pd.read_csv('titanic.csv')\n",
        "# выберем целевую и обучающие колонки\n",
        "tg_col = ['Survived']\n",
        "train_col = ['Sex', 'Pclass', 'Age', 'Fare', 'SibSp']\n",
        "X = df[train_col]\n",
        "Y = df[tg_col]\n",
        "df.columns"
      ],
      "metadata": {
        "id": "JCAkw0bWWLpz"
      },
      "execution_count": null,
      "outputs": []
    },
    {
      "cell_type": "code",
      "source": [
        "X['Age'].fillna(X['Age'].mean(), inplace = True)"
      ],
      "metadata": {
        "id": "PbFfViT8-lci"
      },
      "execution_count": null,
      "outputs": []
    },
    {
      "cell_type": "code",
      "source": [
        "MyStringIndexer={'male':0, 'female':1}\n",
        "X['Sex'] = X['Sex'].apply(lambda x:MyStringIndexer[x])"
      ],
      "metadata": {
        "id": "4wG7yBhd_PJS"
      },
      "execution_count": null,
      "outputs": []
    },
    {
      "cell_type": "code",
      "source": [
        "X_train, X_test, Y_train, Y_test = train_test_split(X,Y, stratify=Y, test_size=0.3, random_state=47)"
      ],
      "metadata": {
        "id": "bRL-jdh1_Ub7"
      },
      "execution_count": null,
      "outputs": []
    },
    {
      "cell_type": "code",
      "source": [
        "X_train.isnull().any() #СУПЕР!!!"
      ],
      "metadata": {
        "id": "8goWvux6AC-v"
      },
      "execution_count": null,
      "outputs": []
    },
    {
      "cell_type": "code",
      "source": [
        " from sklearn.neighbors import NearestNeighbors"
      ],
      "metadata": {
        "id": "I__CQ7JY-yR2"
      },
      "execution_count": null,
      "outputs": []
    },
    {
      "cell_type": "code",
      "source": [
        "nbrs = NearestNeighbors(n_neighbors=2, algorithm='ball_tree').fit(X_train)\n",
        "distances, indices = nbrs.kneighbors(X_test)"
      ],
      "metadata": {
        "id": "6ofukd2T_-tB"
      },
      "execution_count": null,
      "outputs": []
    },
    {
      "cell_type": "code",
      "source": [
        "indices"
      ],
      "metadata": {
        "id": "b-5Fs3r2APJ5"
      },
      "execution_count": null,
      "outputs": []
    },
    {
      "cell_type": "code",
      "source": [
        "distances"
      ],
      "metadata": {
        "id": "_BxaMLB3AkfF"
      },
      "execution_count": null,
      "outputs": []
    },
    {
      "cell_type": "code",
      "source": [],
      "metadata": {
        "id": "bHt_-hycArIP"
      },
      "execution_count": null,
      "outputs": []
    }
  ]
}